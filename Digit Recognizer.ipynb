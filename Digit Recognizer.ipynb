{
 "cells": [
  {
   "cell_type": "markdown",
   "metadata": {},
   "source": [
    "# Digit Recognizer\n",
    "\n",
    "Kagggle link: https://www.kaggle.com/c/digit-recognizer\n"
   ]
  },
  {
   "cell_type": "markdown",
   "metadata": {},
   "source": [
    "## Prepare Environment"
   ]
  },
  {
   "cell_type": "code",
   "execution_count": 1,
   "metadata": {
    "collapsed": true
   },
   "outputs": [],
   "source": [
    "import numpy as np\n",
    "import pandas as pd\n",
    "import tensorflow as tf\n",
    "import math\n",
    "import matplotlib.pyplot as plt\n",
    "%matplotlib inline"
   ]
  },
  {
   "cell_type": "markdown",
   "metadata": {},
   "source": [
    "## Prepare Data"
   ]
  },
  {
   "cell_type": "code",
   "execution_count": 2,
   "metadata": {
    "collapsed": true
   },
   "outputs": [],
   "source": [
    "all_train_data = pd.read_csv(\"all/train.csv\")"
   ]
  },
  {
   "cell_type": "code",
   "execution_count": 3,
   "metadata": {
    "collapsed": true
   },
   "outputs": [],
   "source": [
    "# seperate train and cross from train data\n",
    "train_frac = 0.9\n",
    "train_data = all_train_data.sample(frac=train_frac, random_state=300)\n",
    "cross_data = all_train_data.drop(train_data.index)"
   ]
  },
  {
   "cell_type": "code",
   "execution_count": 4,
   "metadata": {
    "collapsed": true
   },
   "outputs": [],
   "source": [
    "# split label and pixel\n",
    "y_train = train_data['label']\n",
    "X_train = train_data.drop(labels = [\"label\"], axis = 1) \n",
    "y_cross = cross_data['label']\n",
    "X_cross = cross_data.drop(labels = [\"label\"], axis = 1) "
   ]
  },
  {
   "cell_type": "code",
   "execution_count": 5,
   "metadata": {
    "collapsed": true
   },
   "outputs": [],
   "source": [
    "# normalize\n",
    "X_train = X_train / 255\n",
    "X_cross = X_cross / 255"
   ]
  },
  {
   "cell_type": "code",
   "execution_count": 6,
   "metadata": {},
   "outputs": [],
   "source": [
    "# pandas to numpy array\n",
    "X_train = X_train.values.reshape(-1, 28, 28, 1)\n",
    "X_cross = X_cross.values.reshape(-1, 28, 28, 1)\n",
    "\n",
    "y_train = y_train.values\n",
    "y_cross = y_cross.values"
   ]
  },
  {
   "cell_type": "markdown",
   "metadata": {},
   "source": [
    "### Show one of example"
   ]
  },
  {
   "cell_type": "code",
   "execution_count": 7,
   "metadata": {},
   "outputs": [
    {
     "data": {
      "text/plain": [
       "<matplotlib.image.AxesImage at 0xb1827c668>"
      ]
     },
     "execution_count": 7,
     "metadata": {},
     "output_type": "execute_result"
    },
    {
     "data": {
      "image/png": "[encoded data removed]",
      "text/plain": [
       "<Figure size 432x288 with 1 Axes>"
      ]
     },
     "metadata": {},
     "output_type": "display_data"
    }
   ],
   "source": [
    "plt.imshow(X_train[5][:, :, 0])"
   ]
  },
  {
   "cell_type": "markdown",
   "metadata": {},
   "source": [
    "## Build Model"
   ]
  },
  {
   "cell_type": "code",
   "execution_count": 8,
   "metadata": {
    "collapsed": true
   },
   "outputs": [],
   "source": [
    "def model(X, is_training):\n",
    "    w_initializer = tf.variance_scaling_initializer()\n",
    "    b_initializer = tf.zeros_initializer()\n",
    "   \n",
    "    # Convolutional Layer #1 and Pooling Layer #1\n",
    "    conv1 = tf.layers.conv2d(\n",
    "        inputs=X,\n",
    "        filters=32,\n",
    "        kernel_size=[3, 3],\n",
    "        padding=\"valid\",\n",
    "        kernel_initializer=w_initializer,\n",
    "        bias_initializer=b_initializer,\n",
    "        activation=tf.nn.relu)\n",
    "\n",
    "    pool1 = tf.layers.max_pooling2d(inputs=conv1, pool_size=[2, 2], strides=2)\n",
    "\n",
    "    # Convolutional Layer #2 and Pooling Layer #2\n",
    "    conv2 = tf.layers.conv2d(\n",
    "        inputs=pool1,\n",
    "        filters=64,\n",
    "        kernel_size=[3, 3],\n",
    "        padding=\"valid\",\n",
    "        kernel_initializer=w_initializer,\n",
    "        bias_initializer=b_initializer,\n",
    "        activation=tf.nn.relu)\n",
    "\n",
    "    pool2 = tf.layers.max_pooling2d(inputs=conv2, pool_size=[2, 2], strides=2)\n",
    "\n",
    "    # Dense Layer\n",
    "    pool2_flat = tf.reshape(pool2, [-1, 5 * 5 * 64])\n",
    "    dense = tf.layers.dense(\n",
    "        inputs=pool2_flat, \n",
    "        units=128, \n",
    "        activation=tf.nn.relu,\n",
    "        kernel_initializer=w_initializer,\n",
    "        bias_initializer=b_initializer\n",
    "    )\n",
    "    dropout = tf.layers.dropout(inputs=dense, rate=0.6, training=is_training)\n",
    "\n",
    "    # Logits Layer\n",
    "    logits = tf.layers.dense(inputs=dropout, units=10)\n",
    "    \n",
    "    return logits"
   ]
  },
  {
   "cell_type": "code",
   "execution_count": 9,
   "metadata": {},
   "outputs": [
    {
     "name": "stdout",
     "output_type": "stream",
     "text": [
      "[\n",
      "<tf.Tensor 'Placeholder:0' shape=(?, 28, 28, 1) dtype=float32>, \n",
      "<tf.Tensor 'Placeholder_1:0' shape=(?,) dtype=int32>, \n",
      "<tf.Tensor 'conv2d/kernel/Initializer/truncated_normal/shape:0' shape=(4,) dtype=int32>, \n",
      "<tf.Tensor 'conv2d/kernel/Initializer/truncated_normal/mean:0' shape=() dtype=float32>, \n",
      "<tf.Tensor 'conv2d/kernel/Initializer/truncated_normal/stddev:0' shape=() dtype=float32>, \n",
      "<tf.Tensor 'conv2d/kernel/Initializer/truncated_normal/TruncatedNormal:0' shape=(3, 3, 1, 32) dtype=float32>, \n",
      "<tf.Tensor 'conv2d/kernel/Initializer/truncated_normal/mul:0' shape=(3, 3, 1, 32) dtype=float32>, \n",
      "<tf.Tensor 'conv2d/kernel/Initializer/truncated_normal:0' shape=(3, 3, 1, 32) dtype=float32>, \n",
      "<tf.Tensor 'conv2d/kernel:0' shape=(3, 3, 1, 32) dtype=float32_ref>, \n",
      "<tf.Tensor 'conv2d/kernel/Assign:0' shape=(3, 3, 1, 32) dtype=float32_ref>, \n",
      "<tf.Tensor 'conv2d/kernel/read:0' shape=(3, 3, 1, 32) dtype=float32>, \n",
      "<tf.Tensor 'conv2d/bias/Initializer/zeros:0' shape=(32,) dtype=float32>, \n",
      "<tf.Tensor 'conv2d/bias:0' shape=(32,) dtype=float32_ref>, \n",
      "<tf.Tensor 'conv2d/bias/Assign:0' shape=(32,) dtype=float32_ref>, \n",
      "<tf.Tensor 'conv2d/bias/read:0' shape=(32,) dtype=float32>, \n",
      "<tf.Tensor 'conv2d/dilation_rate:0' shape=(2,) dtype=int32>, \n",
      "<tf.Tensor 'conv2d/Conv2D:0' shape=(?, 26, 26, 32) dtype=float32>, \n",
      "<tf.Tensor 'conv2d/BiasAdd:0' shape=(?, 26, 26, 32) dtype=float32>, \n",
      "<tf.Tensor 'conv2d/Relu:0' shape=(?, 26, 26, 32) dtype=float32>, \n",
      "<tf.Tensor 'max_pooling2d/MaxPool:0' shape=(?, 13, 13, 32) dtype=float32>, \n",
      "<tf.Tensor 'conv2d_1/kernel/Initializer/truncated_normal/shape:0' shape=(4,) dtype=int32>, \n",
      "<tf.Tensor 'conv2d_1/kernel/Initializer/truncated_normal/mean:0' shape=() dtype=float32>, \n",
      "<tf.Tensor 'conv2d_1/kernel/Initializer/truncated_normal/stddev:0' shape=() dtype=float32>, \n",
      "<tf.Tensor 'conv2d_1/kernel/Initializer/truncated_normal/TruncatedNormal:0' shape=(3, 3, 32, 64) dtype=float32>, \n",
      "<tf.Tensor 'conv2d_1/kernel/Initializer/truncated_normal/mul:0' shape=(3, 3, 32, 64) dtype=float32>, \n",
      "<tf.Tensor 'conv2d_1/kernel/Initializer/truncated_normal:0' shape=(3, 3, 32, 64) dtype=float32>, \n",
      "<tf.Tensor 'conv2d_1/kernel:0' shape=(3, 3, 32, 64) dtype=float32_ref>, \n",
      "<tf.Tensor 'conv2d_1/kernel/Assign:0' shape=(3, 3, 32, 64) dtype=float32_ref>, \n",
      "<tf.Tensor 'conv2d_1/kernel/read:0' shape=(3, 3, 32, 64) dtype=float32>, \n",
      "<tf.Tensor 'conv2d_1/bias/Initializer/zeros:0' shape=(64,) dtype=float32>, \n",
      "<tf.Tensor 'conv2d_1/bias:0' shape=(64,) dtype=float32_ref>, \n",
      "<tf.Tensor 'conv2d_1/bias/Assign:0' shape=(64,) dtype=float32_ref>, \n",
      "<tf.Tensor 'conv2d_1/bias/read:0' shape=(64,) dtype=float32>, \n",
      "<tf.Tensor 'conv2d_1/dilation_rate:0' shape=(2,) dtype=int32>, \n",
      "<tf.Tensor 'conv2d_1/Conv2D:0' shape=(?, 11, 11, 64) dtype=float32>, \n",
      "<tf.Tensor 'conv2d_1/BiasAdd:0' shape=(?, 11, 11, 64) dtype=float32>, \n",
      "<tf.Tensor 'conv2d_1/Relu:0' shape=(?, 11, 11, 64) dtype=float32>, \n",
      "<tf.Tensor 'max_pooling2d_1/MaxPool:0' shape=(?, 5, 5, 64) dtype=float32>, \n",
      "<tf.Tensor 'Reshape/shape:0' shape=(2,) dtype=int32>, \n",
      "<tf.Tensor 'Reshape:0' shape=(?, 1600) dtype=float32>, \n",
      "<tf.Tensor 'dense/kernel/Initializer/truncated_normal/shape:0' shape=(2,) dtype=int32>, \n",
      "<tf.Tensor 'dense/kernel/Initializer/truncated_normal/mean:0' shape=() dtype=float32>, \n",
      "<tf.Tensor 'dense/kernel/Initializer/truncated_normal/stddev:0' shape=() dtype=float32>, \n",
      "<tf.Tensor 'dense/kernel/Initializer/truncated_normal/TruncatedNormal:0' shape=(1600, 128) dtype=float32>, \n",
      "<tf.Tensor 'dense/kernel/Initializer/truncated_normal/mul:0' shape=(1600, 128) dtype=float32>, \n",
      "<tf.Tensor 'dense/kernel/Initializer/truncated_normal:0' shape=(1600, 128) dtype=float32>, \n",
      "<tf.Tensor 'dense/kernel:0' shape=(1600, 128) dtype=float32_ref>, \n",
      "<tf.Tensor 'dense/kernel/Assign:0' shape=(1600, 128) dtype=float32_ref>, \n",
      "<tf.Tensor 'dense/kernel/read:0' shape=(1600, 128) dtype=float32>, \n",
      "<tf.Tensor 'dense/bias/Initializer/zeros:0' shape=(128,) dtype=float32>, \n",
      "<tf.Tensor 'dense/bias:0' shape=(128,) dtype=float32_ref>, \n",
      "<tf.Tensor 'dense/bias/Assign:0' shape=(128,) dtype=float32_ref>, \n",
      "<tf.Tensor 'dense/bias/read:0' shape=(128,) dtype=float32>, \n",
      "<tf.Tensor 'dense/MatMul:0' shape=(?, 128) dtype=float32>, \n",
      "<tf.Tensor 'dense/BiasAdd:0' shape=(?, 128) dtype=float32>, \n",
      "<tf.Tensor 'dense/Relu:0' shape=(?, 128) dtype=float32>, \n",
      "<tf.Tensor 'dropout/dropout/keep_prob:0' shape=() dtype=float32>, \n",
      "<tf.Tensor 'dropout/dropout/Shape:0' shape=(2,) dtype=int32>, \n",
      "<tf.Tensor 'dropout/dropout/random_uniform/min:0' shape=() dtype=float32>, \n",
      "<tf.Tensor 'dropout/dropout/random_uniform/max:0' shape=() dtype=float32>, \n",
      "<tf.Tensor 'dropout/dropout/random_uniform/RandomUniform:0' shape=(?, 128) dtype=float32>, \n",
      "<tf.Tensor 'dropout/dropout/random_uniform/sub:0' shape=() dtype=float32>, \n",
      "<tf.Tensor 'dropout/dropout/random_uniform/mul:0' shape=(?, 128) dtype=float32>, \n",
      "<tf.Tensor 'dropout/dropout/random_uniform:0' shape=(?, 128) dtype=float32>, \n",
      "<tf.Tensor 'dropout/dropout/add:0' shape=(?, 128) dtype=float32>, \n",
      "<tf.Tensor 'dropout/dropout/Floor:0' shape=(?, 128) dtype=float32>, \n",
      "<tf.Tensor 'dropout/dropout/div:0' shape=(?, 128) dtype=float32>, \n",
      "<tf.Tensor 'dropout/dropout/mul:0' shape=(?, 128) dtype=float32>, \n",
      "<tf.Tensor 'dense_1/kernel/Initializer/random_uniform/shape:0' shape=(2,) dtype=int32>, \n",
      "<tf.Tensor 'dense_1/kernel/Initializer/random_uniform/min:0' shape=() dtype=float32>, \n",
      "<tf.Tensor 'dense_1/kernel/Initializer/random_uniform/max:0' shape=() dtype=float32>, \n",
      "<tf.Tensor 'dense_1/kernel/Initializer/random_uniform/RandomUniform:0' shape=(128, 10) dtype=float32>, \n",
      "<tf.Tensor 'dense_1/kernel/Initializer/random_uniform/sub:0' shape=() dtype=float32>, \n",
      "<tf.Tensor 'dense_1/kernel/Initializer/random_uniform/mul:0' shape=(128, 10) dtype=float32>, \n",
      "<tf.Tensor 'dense_1/kernel/Initializer/random_uniform:0' shape=(128, 10) dtype=float32>, \n",
      "<tf.Tensor 'dense_1/kernel:0' shape=(128, 10) dtype=float32_ref>, \n",
      "<tf.Tensor 'dense_1/kernel/Assign:0' shape=(128, 10) dtype=float32_ref>, \n",
      "<tf.Tensor 'dense_1/kernel/read:0' shape=(128, 10) dtype=float32>, \n",
      "<tf.Tensor 'dense_1/bias/Initializer/zeros:0' shape=(10,) dtype=float32>, \n",
      "<tf.Tensor 'dense_1/bias:0' shape=(10,) dtype=float32_ref>, \n",
      "<tf.Tensor 'dense_1/bias/Assign:0' shape=(10,) dtype=float32_ref>, \n",
      "<tf.Tensor 'dense_1/bias/read:0' shape=(10,) dtype=float32>, \n",
      "<tf.Tensor 'dense_1/MatMul:0' shape=(?, 10) dtype=float32>, \n",
      "<tf.Tensor 'dense_1/BiasAdd:0' shape=(?, 10) dtype=float32>]\n"
     ]
    }
   ],
   "source": [
    "# to see dimension for each layer\n",
    "tf.reset_default_graph()\n",
    "X = tf.placeholder(tf.float32, [None, 28, 28, 1])\n",
    "y = tf.placeholder(tf.int32, [None])\n",
    "\n",
    "# midel pipe\n",
    "prediction = model(X, is_training=True)\n",
    "print(str(tf.contrib.graph_editor.get_tensors(tf.get_default_graph())).replace('<', '\\n<'))\n",
    "    "
   ]
  },
  {
   "cell_type": "markdown",
   "metadata": {},
   "source": [
    "## Build Train Process"
   ]
  },
  {
   "cell_type": "code",
   "execution_count": 16,
   "metadata": {
    "collapsed": true
   },
   "outputs": [],
   "source": [
    "def train(X_train, y_train, X_cross, y_cross, learning_rate, batch_size, epochs_num):\n",
    "    train_data_num, _, _, _ = X_train.shape\n",
    "    \n",
    "    tf.reset_default_graph()\n",
    "    \n",
    "    X = tf.placeholder('float', [None, 28, 28, 1])\n",
    "    y = tf.placeholder(tf.int32, [None])\n",
    "    \n",
    "    # model pipe\n",
    "    prediction = model(X, is_training=True)\n",
    "    \n",
    "    # train pipe\n",
    "    cost = tf.reduce_mean(tf.nn.sparse_softmax_cross_entropy_with_logits(logits = prediction, labels = y))\n",
    "    optimizer = tf.train.AdamOptimizer(learning_rate=learning_rate).minimize(cost)\n",
    "    \n",
    "    # cross validation pipe\n",
    "    correct = tf.equal(tf.argmax(prediction, 1, output_type=tf.int32), y)\n",
    "    accuracy = tf.reduce_mean(tf.cast(correct, 'float'))\n",
    "    \n",
    "    saver = tf.train.Saver()\n",
    "    sess = tf.Session()\n",
    "    sess.run(tf.global_variables_initializer())\n",
    "    \n",
    "    for epoch in range(epochs_num):\n",
    "        # shuffle data\n",
    "        index = np.random.permutation(train_data_num)\n",
    "        X_train=X_train[index]\n",
    "        y_train=y_train[index]\n",
    "        \n",
    "        epoch_loss = 0\n",
    "        for k in range(math.floor(train_data_num/batch_size)):\n",
    "            mini_batch_X = X_train[k * batch_size : k * batch_size + batch_size]\n",
    "            mini_batch_Y = y_train[k * batch_size : k * batch_size + batch_size]\n",
    "            \n",
    "            _, tc = sess.run([optimizer, cost], feed_dict={X: mini_batch_X, y: mini_batch_Y})\n",
    "            epoch_loss += tc\n",
    "\n",
    "        train_ac = sess.run(accuracy, feed_dict={X: X_train, y: y_train})\n",
    "        cross_ac, cross_loss = sess.run([accuracy, cost], feed_dict={X:X_cross, y:y_cross})\n",
    "        \n",
    "        train_ac = train_ac*100\n",
    "        cross_ac = cross_ac*100\n",
    "        print('Epoch ', epoch+1 , ' / ', epochs_num, ': ')\n",
    "        print('- Train loss: ', epoch_loss, ', Train ac: ', train_ac)\n",
    "        print('- Cross loss: ', cross_loss, ', Cross ac: ', cross_ac)\n",
    "\n",
    "    saver.save(sess, 'ckpt/digit_recog.ckpt')\n",
    "    sess.close()\n",
    "    \n",
    "    return epoch_loss, train_ac, cross_loss, cross_ac"
   ]
  },
  {
   "cell_type": "markdown",
   "metadata": {},
   "source": [
    "## Choose hyperparameter "
   ]
  },
  {
   "cell_type": "markdown",
   "metadata": {},
   "source": [
    "### 1. choose learning  rate"
   ]
  },
  {
   "cell_type": "code",
   "execution_count": 18,
   "metadata": {},
   "outputs": [
    {
     "name": "stdout",
     "output_type": "stream",
     "text": [
      "--- lr:  0.001 ---\n",
      "Epoch  1  /  10 : \n",
      "- Train loss:  118.28529321402311 , Train ac:  95.28042078018188\n",
      "- Cross loss:  0.1679758 , Cross ac:  94.97619271278381\n",
      "Epoch  2  /  10 : \n",
      "- Train loss:  41.300268441438675 , Train ac:  96.56878113746643\n",
      "- Cross loss:  0.1160628 , Cross ac:  96.69047594070435\n",
      "Epoch  3  /  10 : \n",
      "- Train loss:  30.919281600043178 , Train ac:  97.37301468849182\n",
      "- Cross loss:  0.09012888 , Cross ac:  97.47619032859802\n",
      "Epoch  4  /  10 : \n",
      "- Train loss:  25.093676397576928 , Train ac:  97.89153337478638\n",
      "- Cross loss:  0.08245915 , Cross ac:  97.69047498703003\n",
      "Epoch  5  /  10 : \n",
      "- Train loss:  21.289368056692183 , Train ac:  98.26455116271973\n",
      "- Cross loss:  0.07003832 , Cross ac:  97.83333539962769\n",
      "Epoch  6  /  10 : \n",
      "- Train loss:  17.92128860903904 , Train ac:  98.25661182403564\n",
      "- Cross loss:  0.07498747 , Cross ac:  97.97618985176086\n",
      "Epoch  7  /  10 : \n",
      "- Train loss:  16.651686898432672 , Train ac:  98.48941564559937\n",
      "- Cross loss:  0.0703983 , Cross ac:  97.97618985176086\n",
      "Epoch  8  /  10 : \n",
      "- Train loss:  15.390481860376894 , Train ac:  98.57142567634583\n",
      "- Cross loss:  0.0671482 , Cross ac:  98.11905026435852\n",
      "Epoch  9  /  10 : \n",
      "- Train loss:  13.492744039278477 , Train ac:  98.72486591339111\n",
      "- Cross loss:  0.061812934 , Cross ac:  98.30952286720276\n",
      "Epoch  10  /  10 : \n",
      "- Train loss:  12.444050639402121 , Train ac:  98.91534447669983\n",
      "- Cross loss:  0.061648704 , Cross ac:  98.04762005805969\n",
      "--- lr:  0.01 ---\n",
      "Epoch  1  /  10 : \n",
      "- Train loss:  111.49762486666441 , Train ac:  94.0317451953888\n",
      "- Cross loss:  0.19756241 , Cross ac:  93.92856955528259\n",
      "Epoch  2  /  10 : \n",
      "- Train loss:  52.675561279058456 , Train ac:  95.43121457099915\n",
      "- Cross loss:  0.14696202 , Cross ac:  95.52381038665771\n",
      "Epoch  3  /  10 : \n",
      "- Train loss:  46.07343294844031 , Train ac:  96.29100561141968\n",
      "- Cross loss:  0.13912903 , Cross ac:  95.6666648387909\n",
      "Epoch  4  /  10 : \n",
      "- Train loss:  44.195682153105736 , Train ac:  94.99471187591553\n",
      "- Cross loss:  0.16730186 , Cross ac:  94.42856907844543\n",
      "Epoch  5  /  10 : \n",
      "- Train loss:  39.85612620972097 , Train ac:  96.20370268821716\n",
      "- Cross loss:  0.13680096 , Cross ac:  95.71428298950195\n",
      "Epoch  6  /  10 : \n",
      "- Train loss:  39.496556516736746 , Train ac:  96.84656262397766\n",
      "- Cross loss:  0.12264448 , Cross ac:  96.40476107597351\n",
      "Epoch  7  /  10 : \n",
      "- Train loss:  37.72891751024872 , Train ac:  96.3518500328064\n",
      "- Cross loss:  0.14236651 , Cross ac:  95.90476155281067\n",
      "Epoch  8  /  10 : \n",
      "- Train loss:  37.5163579005748 , Train ac:  96.85449600219727\n",
      "- Cross loss:  0.1391378 , Cross ac:  96.1904764175415\n",
      "Epoch  9  /  10 : \n",
      "- Train loss:  34.91127104498446 , Train ac:  96.875661611557\n",
      "- Cross loss:  0.13211346 , Cross ac:  96.04762196540833\n",
      "Epoch  10  /  10 : \n",
      "- Train loss:  35.243180675432086 , Train ac:  96.49999737739563\n",
      "- Cross loss:  0.13698426 , Cross ac:  95.76190710067749\n",
      "--- lr:  0.1 ---\n",
      "Epoch  1  /  10 : \n",
      "- Train loss:  1021.3632190227509 , Train ac:  11.179894208908081\n",
      "- Cross loss:  2.3082972 , Cross ac:  10.904762148857117\n",
      "Epoch  2  /  10 : \n",
      "- Train loss:  680.5298998355865 , Train ac:  11.179894208908081\n",
      "- Cross loss:  2.3055084 , Cross ac:  10.904762148857117\n",
      "Epoch  3  /  10 : \n",
      "- Train loss:  680.9053506851196 , Train ac:  10.343915224075317\n",
      "- Cross loss:  2.3029373 , Cross ac:  10.499999672174454\n",
      "Epoch  4  /  10 : \n",
      "- Train loss:  680.6595709323883 , Train ac:  11.179894208908081\n",
      "- Cross loss:  2.3113704 , Cross ac:  10.904762148857117\n",
      "Epoch  5  /  10 : \n",
      "- Train loss:  680.5725591182709 , Train ac:  11.179894208908081\n",
      "- Cross loss:  2.3078213 , Cross ac:  10.904762148857117\n",
      "Epoch  6  /  10 : \n",
      "- Train loss:  680.4706645011902 , Train ac:  10.544973611831665\n",
      "- Cross loss:  2.309896 , Cross ac:  9.880952537059784\n",
      "Epoch  7  /  10 : \n",
      "- Train loss:  680.8093347549438 , Train ac:  10.343915224075317\n",
      "- Cross loss:  2.3109007 , Cross ac:  10.499999672174454\n",
      "Epoch  8  /  10 : \n",
      "- Train loss:  680.502277135849 , Train ac:  9.695766866207123\n",
      "- Cross loss:  2.3094182 , Cross ac:  9.690476208925247\n",
      "Epoch  9  /  10 : \n",
      "- Train loss:  680.4887573719025 , Train ac:  10.544973611831665\n",
      "- Cross loss:  2.306762 , Cross ac:  9.880952537059784\n",
      "Epoch  10  /  10 : \n",
      "- Train loss:  680.7472629547119 , Train ac:  11.179894208908081\n",
      "- Cross loss:  2.313099 , Cross ac:  10.904762148857117\n",
      "\n",
      "Best learning rate:  0.001  with cross accuracy: 98.04762005805969\n"
     ]
    }
   ],
   "source": [
    "learning_rate = [0.001, 0.01, 0.1]\n",
    "batch_size = 128\n",
    "epochs_num = 10\n",
    "\n",
    "max_cross_ac = 0\n",
    "best_lr = learning_rate[0]\n",
    "for lr in learning_rate:\n",
    "    print('--- lr: ', lr, '---')\n",
    "    train_loss, train_ac, cross_loss, cross_ac = train(X_train, y_train, X_cross, y_cross, \n",
    "                                                       lr, batch_size, epochs_num)\n",
    "    if cross_ac > max_cross_ac:\n",
    "        max_cross_ac = cross_ac\n",
    "        best_lr = lr\n",
    "\n",
    "print(\"\\nBest learning rate: \", best_lr, ' with cross accuracy:', max_cross_ac)"
   ]
  },
  {
   "cell_type": "markdown",
   "metadata": {},
   "source": [
    "You can see the best learning rate for cross loss is **0.001** with cross accuracy: 98.04762005805969"
   ]
  },
  {
   "cell_type": "markdown",
   "metadata": {},
   "source": [
    "### 2. choose batch size"
   ]
  },
  {
   "cell_type": "code",
   "execution_count": 19,
   "metadata": {},
   "outputs": [
    {
     "name": "stdout",
     "output_type": "stream",
     "text": [
      "--- batch size:  64  ---\n",
      "Epoch  1  /  10 : \n",
      "- Train loss:  195.9907901994884 , Train ac:  95.96296548843384\n",
      "- Cross loss:  0.13417675 , Cross ac:  95.92857360839844\n",
      "Epoch  2  /  10 : \n",
      "- Train loss:  70.02418467402458 , Train ac:  97.36508131027222\n",
      "- Cross loss:  0.09691779 , Cross ac:  97.09523916244507\n",
      "Epoch  3  /  10 : \n",
      "- Train loss:  51.47557849064469 , Train ac:  97.8518545627594\n",
      "- Cross loss:  0.07777838 , Cross ac:  97.42857217788696\n",
      "Epoch  4  /  10 : \n",
      "- Train loss:  42.16823971341364 , Train ac:  97.76190519332886\n",
      "- Cross loss:  0.08799585 , Cross ac:  97.57142663002014\n",
      "Epoch  5  /  10 : \n",
      "- Train loss:  36.65191896818578 , Train ac:  98.38888645172119\n",
      "- Cross loss:  0.07146958 , Cross ac:  98.00000190734863\n",
      "Epoch  6  /  10 : \n",
      "- Train loss:  31.816332316957414 , Train ac:  98.70370626449585\n",
      "- Cross loss:  0.067367174 , Cross ac:  98.04762005805969\n",
      "Epoch  7  /  10 : \n",
      "- Train loss:  26.522872751695104 , Train ac:  98.68518710136414\n",
      "- Cross loss:  0.0642966 , Cross ac:  98.35714101791382\n",
      "Epoch  8  /  10 : \n",
      "- Train loss:  24.367731804493815 , Train ac:  98.95238280296326\n",
      "- Cross loss:  0.05125171 , Cross ac:  98.64285588264465\n",
      "Epoch  9  /  10 : \n",
      "- Train loss:  22.93704123736825 , Train ac:  99.015873670578\n",
      "- Cross loss:  0.05830011 , Cross ac:  98.40475916862488\n",
      "Epoch  10  /  10 : \n",
      "- Train loss:  19.044197759474628 , Train ac:  98.92857074737549\n",
      "- Cross loss:  0.060153216 , Cross ac:  98.33333492279053\n",
      "--- batch size:  128  ---\n",
      "Epoch  1  /  10 : \n",
      "- Train loss:  113.62791318446398 , Train ac:  95.1375663280487\n",
      "- Cross loss:  0.1693085 , Cross ac:  95.02381086349487\n",
      "Epoch  2  /  10 : \n",
      "- Train loss:  40.012725822627544 , Train ac:  96.75132036209106\n",
      "- Cross loss:  0.10997273 , Cross ac:  96.92857265472412\n",
      "Epoch  3  /  10 : \n",
      "- Train loss:  30.704777332022786 , Train ac:  97.28307127952576\n",
      "- Cross loss:  0.100325994 , Cross ac:  97.02380895614624\n",
      "Epoch  4  /  10 : \n",
      "- Train loss:  26.172820573672652 , Train ac:  97.7830708026886\n",
      "- Cross loss:  0.08391715 , Cross ac:  97.3809540271759\n",
      "Epoch  5  /  10 : \n",
      "- Train loss:  21.149837653152645 , Train ac:  98.15608263015747\n",
      "- Cross loss:  0.07485786 , Cross ac:  97.35714197158813\n",
      "Epoch  6  /  10 : \n",
      "- Train loss:  18.26911415765062 , Train ac:  98.12169075012207\n",
      "- Cross loss:  0.071513146 , Cross ac:  97.97618985176086\n",
      "Epoch  7  /  10 : \n",
      "- Train loss:  16.931448807474226 , Train ac:  98.67724776268005\n",
      "- Cross loss:  0.07287616 , Cross ac:  98.11905026435852\n",
      "Epoch  8  /  10 : \n",
      "- Train loss:  14.733151971362531 , Train ac:  98.46296310424805\n",
      "- Cross loss:  0.06739555 , Cross ac:  98.16666841506958\n",
      "Epoch  9  /  10 : \n",
      "- Train loss:  13.502546024974436 , Train ac:  98.65344166755676\n",
      "- Cross loss:  0.06868779 , Cross ac:  98.2619047164917\n",
      "Epoch  10  /  10 : \n",
      "- Train loss:  11.80103446985595 , Train ac:  98.9047646522522\n",
      "- Cross loss:  0.05543737 , Cross ac:  98.33333492279053\n",
      "--- batch size:  256  ---\n",
      "Epoch  1  /  10 : \n",
      "- Train loss:  68.7681735754013 , Train ac:  94.38889026641846\n",
      "- Cross loss:  0.17940593 , Cross ac:  94.73809599876404\n",
      "Epoch  2  /  10 : \n",
      "- Train loss:  23.1994973346591 , Train ac:  95.8042323589325\n",
      "- Cross loss:  0.13897519 , Cross ac:  95.76190710067749\n",
      "Epoch  3  /  10 : \n",
      "- Train loss:  17.168953485786915 , Train ac:  97.0714271068573\n",
      "- Cross loss:  0.10830586 , Cross ac:  96.7380940914154\n",
      "Epoch  4  /  10 : \n",
      "- Train loss:  13.947271544486284 , Train ac:  97.51058220863342\n",
      "- Cross loss:  0.08992298 , Cross ac:  97.69047498703003\n",
      "Epoch  5  /  10 : \n",
      "- Train loss:  12.287227535620332 , Train ac:  97.64285683631897\n",
      "- Cross loss:  0.081738696 , Cross ac:  97.6190447807312\n",
      "Epoch  6  /  10 : \n",
      "- Train loss:  10.864492448046803 , Train ac:  98.2195794582367\n",
      "- Cross loss:  0.071571924 , Cross ac:  98.00000190734863\n",
      "Epoch  7  /  10 : \n",
      "- Train loss:  9.338103061541915 , Train ac:  97.92592525482178\n",
      "- Cross loss:  0.09036051 , Cross ac:  97.57142663002014\n",
      "Epoch  8  /  10 : \n",
      "- Train loss:  8.855301681905985 , Train ac:  98.3650803565979\n",
      "- Cross loss:  0.06484823 , Cross ac:  98.02380800247192\n",
      "Epoch  9  /  10 : \n",
      "- Train loss:  7.792829042300582 , Train ac:  98.58730435371399\n",
      "- Cross loss:  0.0679669 , Cross ac:  98.19047451019287\n",
      "Epoch  10  /  10 : \n",
      "- Train loss:  7.278593134135008 , Train ac:  98.69047403335571\n",
      "- Cross loss:  0.06733117 , Cross ac:  98.21428656578064\n",
      "\n",
      "Best batch size:  64 , with cross accuracy: 98.33333492279053\n"
     ]
    }
   ],
   "source": [
    "# change batch size\n",
    "learning_rate = 0.001\n",
    "batch_size_list = [64, 128, 256]\n",
    "epochs_num = 10\n",
    "\n",
    "max_cross_ac = 0\n",
    "best_bs = batch_size_list[0]\n",
    "for bs in batch_size_list:\n",
    "    print('--- batch size: ', bs, ' ---')\n",
    "    train_loss, train_ac, cross_loss, cross_ac = train(X_train, y_train, X_cross, y_cross, \n",
    "                                                       learning_rate, bs, epochs_num)\n",
    "    if cross_ac > max_cross_ac:\n",
    "        max_cross_ac = cross_ac\n",
    "        best_bs = bs\n",
    "\n",
    "print(\"\\nBest batch size: \", best_bs, ', with cross accuracy:', max_cross_ac)"
   ]
  },
  {
   "cell_type": "markdown",
   "metadata": {},
   "source": [
    "You can see the best batch size for cross loss is **64** with cross accuracy: 98.33333492279053\n",
    "\n",
    "(The batch size 128 is also ok with the same cross accuracy)"
   ]
  },
  {
   "cell_type": "markdown",
   "metadata": {},
   "source": [
    "### 3. choose epoch num"
   ]
  },
  {
   "cell_type": "code",
   "execution_count": 45,
   "metadata": {},
   "outputs": [
    {
     "name": "stdout",
     "output_type": "stream",
     "text": [
      "Epoch  1  /  20 : \n",
      "- Train loss:  71.58859105408192 , Train ac:  94.27777528762817\n",
      "- Cross loss:  0.1959934 , Cross ac:  93.92856955528259\n",
      "Epoch  2  /  20 : \n",
      "- Train loss:  22.98341851681471 , Train ac:  96.32539749145508\n",
      "- Cross loss:  0.13656352 , Cross ac:  96.21428847312927\n",
      "Epoch  3  /  20 : \n",
      "- Train loss:  16.658662535250187 , Train ac:  96.83068990707397\n",
      "- Cross loss:  0.1174908 , Cross ac:  96.71428799629211\n",
      "Epoch  4  /  20 : \n",
      "- Train loss:  13.932770788669586 , Train ac:  97.58994579315186\n",
      "- Cross loss:  0.09165271 , Cross ac:  97.4047601222992\n",
      "Epoch  5  /  20 : \n",
      "- Train loss:  11.701462026685476 , Train ac:  97.83597588539124\n",
      "- Cross loss:  0.08339448 , Cross ac:  97.54762053489685\n",
      "Epoch  6  /  20 : \n",
      "- Train loss:  10.252482263371348 , Train ac:  98.19047451019287\n",
      "- Cross loss:  0.079214625 , Cross ac:  97.90475964546204\n",
      "Epoch  7  /  20 : \n",
      "- Train loss:  8.836864080280066 , Train ac:  98.25661182403564\n",
      "- Cross loss:  0.06418707 , Cross ac:  97.97618985176086\n",
      "Epoch  8  /  20 : \n",
      "- Train loss:  8.050601959228516 , Train ac:  98.5370397567749\n",
      "- Cross loss:  0.063580446 , Cross ac:  98.09523820877075\n",
      "Epoch  9  /  20 : \n",
      "- Train loss:  7.666507571935654 , Train ac:  98.44973683357239\n",
      "- Cross loss:  0.06088674 , Cross ac:  98.19047451019287\n",
      "Epoch  10  /  20 : \n",
      "- Train loss:  6.907022809609771 , Train ac:  98.68254065513611\n",
      "- Cross loss:  0.061783448 , Cross ac:  98.23809266090393\n",
      "Epoch  11  /  20 : \n",
      "- Train loss:  6.260113223455846 , Train ac:  98.78836274147034\n",
      "- Cross loss:  0.058563277 , Cross ac:  98.30952286720276\n",
      "Epoch  12  /  20 : \n",
      "- Train loss:  5.813939538784325 , Train ac:  98.93651008605957\n",
      "- Cross loss:  0.06068078 , Cross ac:  98.30952286720276\n",
      "Epoch  13  /  20 : \n",
      "- Train loss:  5.820551614277065 , Train ac:  98.91005158424377\n",
      "- Cross loss:  0.06299274 , Cross ac:  98.5952377319336\n",
      "Epoch  14  /  20 : \n",
      "- Train loss:  5.310741845984012 , Train ac:  99.00529384613037\n",
      "- Cross loss:  0.055821825 , Cross ac:  98.57142567634583\n",
      "Epoch  15  /  20 : \n",
      "- Train loss:  4.702702095732093 , Train ac:  98.92857074737549\n",
      "- Cross loss:  0.05790845 , Cross ac:  98.42857122421265\n",
      "Epoch  16  /  20 : \n",
      "- Train loss:  4.697872545104474 , Train ac:  98.85450005531311\n",
      "- Cross loss:  0.065417334 , Cross ac:  98.11905026435852\n",
      "Epoch  17  /  20 : \n",
      "- Train loss:  4.360991762951016 , Train ac:  99.11110997200012\n",
      "- Cross loss:  0.054789234 , Cross ac:  98.50000143051147\n",
      "Epoch  18  /  20 : \n",
      "- Train loss:  4.071997006423771 , Train ac:  99.19312000274658\n",
      "- Cross loss:  0.053867396 , Cross ac:  98.4761893749237\n",
      "Epoch  19  /  20 : \n",
      "- Train loss:  4.019924886990339 , Train ac:  99.24338459968567\n",
      "- Cross loss:  0.060238097 , Cross ac:  98.38095307350159\n",
      "Epoch  20  /  20 : \n",
      "- Train loss:  3.828848159406334 , Train ac:  99.33862686157227\n",
      "- Cross loss:  0.056270897 , Cross ac:  98.35714101791382\n",
      "\n",
      "Cross accuracy: 98.35714101791382\n"
     ]
    }
   ],
   "source": [
    "learning_rate = 0.001\n",
    "batch_size_list = 128\n",
    "epochs_num = 20\n",
    "\n",
    "train_loss, train_ac, cross_loss, cross_ac = train(X_train, y_train, X_cross, y_cross, \n",
    "                                                   learning_rate, bs, epochs_num)\n",
    "\n",
    "print('\\nCross accuracy:', cross_ac)\n"
   ]
  },
  {
   "cell_type": "markdown",
   "metadata": {},
   "source": [
    "Look above loss history, maybe 13 epoches is ok for batchsize 128."
   ]
  },
  {
   "cell_type": "code",
   "execution_count": 46,
   "metadata": {},
   "outputs": [
    {
     "name": "stdout",
     "output_type": "stream",
     "text": [
      "Epoch  1  /  13 : \n",
      "- Train loss:  76.33140078186989 , Train ac:  94.07936334609985\n",
      "- Cross loss:  0.20585127 , Cross ac:  93.92856955528259\n",
      "Epoch  2  /  13 : \n",
      "- Train loss:  25.05654550343752 , Train ac:  95.67460417747498\n",
      "- Cross loss:  0.14550412 , Cross ac:  95.71428298950195\n",
      "Epoch  3  /  13 : \n",
      "- Train loss:  17.761835731565952 , Train ac:  96.92327976226807\n",
      "- Cross loss:  0.11209433 , Cross ac:  96.83333039283752\n",
      "Epoch  4  /  13 : \n",
      "- Train loss:  15.016760770231485 , Train ac:  97.4047601222992\n",
      "- Cross loss:  0.09533734 , Cross ac:  97.2857117652893\n",
      "Epoch  5  /  13 : \n",
      "- Train loss:  12.63373601064086 , Train ac:  97.66402244567871\n",
      "- Cross loss:  0.09395744 , Cross ac:  97.35714197158813\n",
      "Epoch  6  /  13 : \n",
      "- Train loss:  10.82520467042923 , Train ac:  98.0899453163147\n",
      "- Cross loss:  0.072106585 , Cross ac:  97.9285717010498\n",
      "Epoch  7  /  13 : \n",
      "- Train loss:  10.300339573994279 , Train ac:  98.1243371963501\n",
      "- Cross loss:  0.07369041 , Cross ac:  97.64285683631897\n",
      "Epoch  8  /  13 : \n",
      "- Train loss:  8.816265372559428 , Train ac:  98.24073910713196\n",
      "- Cross loss:  0.083184406 , Cross ac:  97.57142663002014\n",
      "Epoch  9  /  13 : \n",
      "- Train loss:  8.347550366073847 , Train ac:  98.57142567634583\n",
      "- Cross loss:  0.065192744 , Cross ac:  98.07142615318298\n",
      "Epoch  10  /  13 : \n",
      "- Train loss:  7.6105510257184505 , Train ac:  98.7063467502594\n",
      "- Cross loss:  0.07026129 , Cross ac:  98.16666841506958\n",
      "Epoch  11  /  13 : \n",
      "- Train loss:  6.6899468544870615 , Train ac:  98.7063467502594\n",
      "- Cross loss:  0.05648816 , Cross ac:  98.42857122421265\n",
      "Epoch  12  /  13 : \n",
      "- Train loss:  6.1589010478928685 , Train ac:  98.78306984901428\n",
      "- Cross loss:  0.04955118 , Cross ac:  98.52380752563477\n",
      "Epoch  13  /  13 : \n",
      "- Train loss:  5.88525475282222 , Train ac:  98.75397086143494\n",
      "- Cross loss:  0.061929133 , Cross ac:  98.19047451019287\n",
      "\n",
      "Cross accuracy: 98.19047451019287\n"
     ]
    }
   ],
   "source": [
    "learning_rate = 0.001\n",
    "batch_size_list = 128\n",
    "epochs_num = 13\n",
    "\n",
    "train_loss, train_ac, cross_loss, cross_ac = train(X_train, y_train, X_cross, y_cross, \n",
    "                                                   learning_rate, bs, epochs_num)\n",
    "\n",
    "print('\\nCross accuracy:', cross_ac)\n"
   ]
  },
  {
   "cell_type": "markdown",
   "metadata": {},
   "source": [
    "## Output test data"
   ]
  },
  {
   "cell_type": "code",
   "execution_count": 47,
   "metadata": {},
   "outputs": [],
   "source": [
    "def predict_test_data():\n",
    "    tf.reset_default_graph()\n",
    "    X = tf.placeholder(tf.float32, [None, 28, 28, 1])\n",
    "    prediction = model(X, is_training=False)\n",
    "    y = tf.argmax(prediction, 1)\n",
    "\n",
    "    saver = tf.train.Saver()\n",
    "    sess= tf.Session()\n",
    "    saver.restore(sess, 'ckpt/digit_recog.ckpt')\n",
    "    result = sess.run(y, feed_dict={X: test_data})\n",
    "    return result"
   ]
  },
  {
   "cell_type": "code",
   "execution_count": 48,
   "metadata": {
    "collapsed": true
   },
   "outputs": [],
   "source": [
    "test_data = pd.read_csv(\"all/test.csv\")\n",
    "test_data = test_data.values.reshape(-1, 28, 28, 1) / 255"
   ]
  },
  {
   "cell_type": "code",
   "execution_count": 49,
   "metadata": {},
   "outputs": [],
   "source": [
    "def output_test_data(result, filename):\n",
    "    # output csv\n",
    "    index = [i for i in range(1, len(result)+1)]\n",
    "\n",
    "    r = pd.DataFrame(result, index=index)\n",
    "    r.columns = ['Label']\n",
    "    r.to_csv(filename, index_label='ImageId')  "
   ]
  },
  {
   "cell_type": "code",
   "execution_count": 50,
   "metadata": {},
   "outputs": [
    {
     "name": "stdout",
     "output_type": "stream",
     "text": [
      "INFO:tensorflow:Restoring parameters from ckpt/digit_recog.ckpt\n",
      "4\n"
     ]
    },
    {
     "data": {
      "image/png": "[encoded data removed]",
      "text/plain": [
       "<Figure size 432x288 with 1 Axes>"
      ]
     },
     "metadata": {},
     "output_type": "display_data"
    }
   ],
   "source": [
    "result = predict_test_data()\n",
    "\n",
    "# show one of result\n",
    "i = 42\n",
    "print(result[i])\n",
    "g = plt.imshow(test_data[i].reshape(28, 28))"
   ]
  },
  {
   "cell_type": "code",
   "execution_count": 51,
   "metadata": {
    "collapsed": true
   },
   "outputs": [],
   "source": [
    "# output\n",
    "output_test_data(result, \"result.csv\")"
   ]
  },
  {
   "cell_type": "markdown",
   "metadata": {},
   "source": [
    "## Data Argumentation\n",
    "\n",
    "Since my best score for testdata is 0.98985 and, I want to try data argumentation."
   ]
  },
  {
   "cell_type": "code",
   "execution_count": 52,
   "metadata": {},
   "outputs": [
    {
     "name": "stderr",
     "output_type": "stream",
     "text": [
      "Using TensorFlow backend.\n"
     ]
    }
   ],
   "source": [
    "from keras.preprocessing.image import ImageDataGenerator\n",
    "\n",
    "\n",
    "def train_with_argumentaion(X_train, y_train, X_cross, y_cross, learning_rate, batch_size, epochs_num):\n",
    "    train_data_num, _, _, _ = X_train.shape\n",
    "    \n",
    "    tf.reset_default_graph()\n",
    "    \n",
    "    X = tf.placeholder(tf.float32, [None, 28, 28, 1])\n",
    "    y = tf.placeholder(tf.int32, [None])\n",
    "    \n",
    "    # argumentaion\n",
    "    datagen = ImageDataGenerator(\n",
    "      rotation_range=15,\n",
    "      width_shift_range=0.1,\n",
    "      height_shift_range=0.1,\n",
    "      zoom_range=0.1)\n",
    "    \n",
    "    # model pipe\n",
    "    prediction = model(X, is_training=True)\n",
    "    \n",
    "    # train pipe\n",
    "    cost = tf.reduce_mean(tf.nn.sparse_softmax_cross_entropy_with_logits(logits = prediction, labels = y))\n",
    "    optimizer = tf.train.AdamOptimizer(learning_rate=learning_rate).minimize(cost)\n",
    "    \n",
    "    # cross validation pipe\n",
    "    correct = tf.equal(tf.argmax(prediction, 1, output_type=tf.int32), y)\n",
    "    accuracy = tf.reduce_mean(tf.cast(correct, 'float'))\n",
    "    \n",
    "    saver = tf.train.Saver()\n",
    "    sess = tf.Session()\n",
    "    sess.run(tf.global_variables_initializer())\n",
    "    \n",
    "    max_cross_ac = 0\n",
    "    for epoch in range(epochs_num):\n",
    "        # shuffle data\n",
    "        \n",
    "        epoch_loss = 0\n",
    "        batch_num = 0\n",
    "        batch_num_max = math.floor(train_data_num/batch_size)\n",
    "        for x_batch, y_batch in datagen.flow(X_train, y_train, batch_size=batch_size):\n",
    "            _, tc = sess.run([optimizer, cost], feed_dict={X: x_batch, y: y_batch})\n",
    "            epoch_loss += tc\n",
    "            batch_num +=1\n",
    "            if batch_num >= batch_num_max:\n",
    "                break\n",
    "\n",
    "        train_ac = sess.run(accuracy, feed_dict={X: X_train, y: y_train})\n",
    "        cross_ac, cross_loss = sess.run([accuracy, cost], feed_dict={X:X_cross, y:y_cross})\n",
    "        \n",
    "        train_ac = train_ac*100\n",
    "        cross_ac = cross_ac*100\n",
    "        print('Epoch ', epoch+1 , ' / ', epochs_num, ': ')\n",
    "        print('- Train loss: ', epoch_loss, ', Train ac: ', train_ac)\n",
    "        print('- Cross loss: ', cross_loss, ', Cross ac: ', cross_ac)\n",
    "\n",
    "    saver.save(sess, 'ckpt/digit_recog.ckpt')\n",
    "    sess.close()\n",
    "    \n",
    "    return epoch_loss, train_ac, cross_loss, cross_ac"
   ]
  },
  {
   "cell_type": "code",
   "execution_count": 54,
   "metadata": {},
   "outputs": [
    {
     "name": "stdout",
     "output_type": "stream",
     "text": [
      "Epoch  1  /  13 : \n",
      "- Train loss:  204.4436512887478 , Train ac:  94.28571462631226\n",
      "- Cross loss:  0.18660966 , Cross ac:  94.80952620506287\n",
      "Epoch  2  /  13 : \n",
      "- Train loss:  89.4371302574873 , Train ac:  96.16402387619019\n",
      "- Cross loss:  0.115885675 , Cross ac:  96.42857313156128\n",
      "Epoch  3  /  13 : \n",
      "- Train loss:  68.7021341919899 , Train ac:  97.22751379013062\n",
      "- Cross loss:  0.08891035 , Cross ac:  97.42857217788696\n",
      "Epoch  4  /  13 : \n",
      "- Train loss:  56.09951478242874 , Train ac:  96.74338698387146\n",
      "- Cross loss:  0.09676476 , Cross ac:  97.23809361457825\n",
      "Epoch  5  /  13 : \n",
      "- Train loss:  49.5571723356843 , Train ac:  97.61375784873962\n",
      "- Cross loss:  0.07357875 , Cross ac:  98.04762005805969\n",
      "Epoch  6  /  13 : \n",
      "- Train loss:  45.47972438111901 , Train ac:  97.57142663002014\n",
      "- Cross loss:  0.07228143 , Cross ac:  98.04762005805969\n",
      "Epoch  7  /  13 : \n",
      "- Train loss:  40.96763815358281 , Train ac:  97.88095355033875\n",
      "- Cross loss:  0.06333266 , Cross ac:  98.19047451019287\n",
      "Epoch  8  /  13 : \n",
      "- Train loss:  39.396627116948366 , Train ac:  98.07142615318298\n",
      "- Cross loss:  0.059888 , Cross ac:  98.23809266090393\n",
      "Epoch  9  /  13 : \n",
      "- Train loss:  36.2409634552896 , Train ac:  98.21428656578064\n",
      "- Cross loss:  0.057727624 , Cross ac:  98.28571677207947\n",
      "Epoch  10  /  13 : \n",
      "- Train loss:  34.25072286091745 , Train ac:  98.23015928268433\n",
      "- Cross loss:  0.059595328 , Cross ac:  98.38095307350159\n",
      "Epoch  11  /  13 : \n",
      "- Train loss:  32.062802432104945 , Train ac:  98.32010865211487\n",
      "- Cross loss:  0.059703454 , Cross ac:  98.2619047164917\n",
      "Epoch  12  /  13 : \n",
      "- Train loss:  29.967366168275476 , Train ac:  98.49735498428345\n",
      "- Cross loss:  0.049443092 , Cross ac:  98.50000143051147\n",
      "Epoch  13  /  13 : \n",
      "- Train loss:  28.597607959993184 , Train ac:  98.4761893749237\n",
      "- Cross loss:  0.058937944 , Cross ac:  98.45238327980042\n"
     ]
    }
   ],
   "source": [
    "learning_rate = 0.001\n",
    "batch_size = 128\n",
    "epochs_num = 13\n",
    "\n",
    "train_loss, train_ac, cross_loss, cross_ac = train_with_argumentaion(X_train, y_train, X_cross, y_cross, \n",
    "                                                                     learning_rate, batch_size, epochs_num)\n"
   ]
  },
  {
   "cell_type": "code",
   "execution_count": 57,
   "metadata": {},
   "outputs": [
    {
     "name": "stdout",
     "output_type": "stream",
     "text": [
      "INFO:tensorflow:Restoring parameters from ckpt/digit_recog.ckpt\n",
      "4\n"
     ]
    },
    {
     "data": {
      "image/png": "[encoded data removed]",
      "text/plain": [
       "<Figure size 432x288 with 1 Axes>"
      ]
     },
     "metadata": {},
     "output_type": "display_data"
    }
   ],
   "source": [
    "test_data = pd.read_csv(\"all/test.csv\")\n",
    "test_data = test_data.values.reshape(-1, 28, 28, 1) / 255\n",
    "\n",
    "\n",
    "result = predict_test_data()\n",
    "\n",
    "# show one of result\n",
    "i = 42\n",
    "print(result[i])\n",
    "g = plt.imshow(test_data[i].reshape(28, 28))"
   ]
  },
  {
   "cell_type": "code",
   "execution_count": 58,
   "metadata": {
    "collapsed": true
   },
   "outputs": [],
   "source": [
    "# output\n",
    "output_test_data(result, \"result-argu.csv\")"
   ]
  },
  {
   "cell_type": "markdown",
   "metadata": {},
   "source": [
    "Use argumentation, the accuracy reach 0.99100!"
   ]
  }
 ],
 "metadata": {
  "kernelspec": {
   "display_name": "Python 3",
   "language": "python",
   "name": "python3"
  },
  "language_info": {
   "codemirror_mode": {
    "name": "ipython",
    "version": 3
   },
   "file_extension": ".py",
   "mimetype": "text/x-python",
   "name": "python",
   "nbconvert_exporter": "python",
   "pygments_lexer": "ipython3",
   "version": "3.6.1"
  }
 },
 "nbformat": 4,
 "nbformat_minor": 2
}
